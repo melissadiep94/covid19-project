{
 "cells": [
  {
   "cell_type": "code",
   "execution_count": 567,
   "metadata": {},
   "outputs": [],
   "source": [
    "import requests\n",
    "import json\n",
    "import pandas as pd\n",
    "import matplotlib.pyplot as plt\n",
    "import numpy as np\n",
    "import scipy.stats as st\n",
    "from scipy.stats import linregress"
   ]
  },
  {
   "cell_type": "code",
   "execution_count": 568,
   "metadata": {},
   "outputs": [],
   "source": [
    "pop_url = \"https://api.census.gov/data/2019/pep/charagegroups?get=NAME,POP&for=county:*&in=state:34&key=52e4b71218eb4d492e49c7dcde830174d23a8db9\"\n",
    "age_sex_url = \"https://api.census.gov/data/2019/pep/charagegroups?get=NAME,POP,SEX,AGEGROUP&for=county:*&in=state:34&key=52e4b71218eb4d492e49c7dcde830174d23a8db9\""
   ]
  },
  {
   "cell_type": "code",
   "execution_count": 569,
   "metadata": {},
   "outputs": [
    {
     "name": "stdout",
     "output_type": "stream",
     "text": [
      "https://api.census.gov/data/2019/pep/charagegroups?get=NAME,POP&for=county:*&in=state:34&key=52e4b71218eb4d492e49c7dcde830174d23a8db9\n",
      "https://api.census.gov/data/2019/pep/charagegroups?get=NAME,POP,SEX,AGEGROUP&for=county:*&in=state:34&key=52e4b71218eb4d492e49c7dcde830174d23a8db9\n"
     ]
    }
   ],
   "source": [
    "pop_response = requests.get(pop_url)\n",
    "age_sex_response = requests.get(age_sex_url)\n",
    "print(pop_response.url)\n",
    "print(age_sex_response.url)"
   ]
  },
  {
   "cell_type": "markdown",
   "metadata": {},
   "source": [
    "# Data Cleaning"
   ]
  },
  {
   "cell_type": "code",
   "execution_count": 570,
   "metadata": {},
   "outputs": [],
   "source": [
    "#Base Population DataFrame from Census API\n",
    "pop_data = pop_response.json()\n",
    "#print(json.dumps(pop_data, indent=4, sort_keys=True))\n",
    "pop_df = pd.DataFrame((pop_data), columns=(\"County\",\"Population\",\"State_Num\",\"County_Num\"))\n",
    "pop_df = pop_df.drop(0).reset_index(drop=True)\n",
    "pop_df[\"County\"] = pop_df[\"County\"].str.split(',',expand=True)\n",
    "pop_df[\"County_Num\"] = pop_df[\"State_Num\"] + pop_df[\"County_Num\"]\n",
    "pop_df = pop_df.sort_values([\"County\"], ascending=True)"
   ]
  },
  {
   "cell_type": "code",
   "execution_count": 571,
   "metadata": {},
   "outputs": [
    {
     "data": {
      "text/plain": [
       "8882190.0"
      ]
     },
     "execution_count": 571,
     "metadata": {},
     "output_type": "execute_result"
    }
   ],
   "source": [
    "pop_df[\"Population\"] = pop_df[\"Population\"].astype(float)\n",
    "tot_pop = pop_df[\"Population\"].sum()\n",
    "tot_pop"
   ]
  },
  {
   "cell_type": "markdown",
   "metadata": {},
   "source": [
    "## Age and Gender Population data Cleaning"
   ]
  },
  {
   "cell_type": "markdown",
   "metadata": {},
   "source": [
    "#### Gender Population DataFrame"
   ]
  },
  {
   "cell_type": "code",
   "execution_count": 572,
   "metadata": {},
   "outputs": [],
   "source": [
    "age_sex_data = age_sex_response.json()\n",
    "#print(json.dumps(age_sex_data, indent=4, sort_keys=True))"
   ]
  },
  {
   "cell_type": "code",
   "execution_count": 573,
   "metadata": {},
   "outputs": [],
   "source": [
    "age_sex_df = pd.DataFrame((age_sex_data), columns=(\"County\",\"Population\", \"Gender\",\"Age_group\", \"State_Num\",\"County_Num\"))\n",
    "age_sex_df = age_sex_df.drop(0).reset_index(drop=True)\n",
    "age_sex_df[\"County\"] = age_sex_df[\"County\"].str.split(',',expand=True)\n",
    "age_sex_df[\"County_Num\"] = age_sex_df[\"State_Num\"] + age_sex_df[\"County_Num\"]\n",
    "age_sex_df[\"Gender\"] = age_sex_df[\"Gender\"].replace([\"0\",\"1\",\"2\"],['M&F', \"Male\", \"Female\"])\n",
    "age_sex_df[\"Age_group\"] = age_sex_df[\"Age_group\"].replace([\"0\",\"1\",\"2\",\"3\", \"4\", \"5\",\"6\",\"7\",\"8\",\"9\",\"10\",\"11\",\"12\",\"13\",\"14\",\"15\",\"16\",\n",
    "\"17\",\"18\",\"19\",\"20\",\"21\",\"22\",\"23\",\"24\",\"25\",\"26\",\"27\",\"28\",\"29\",\"30\",\"31\"],[\"All ages\",\n",
    "\"0 to 4 years\",\n",
    "\"5 to 9 years\",\n",
    "\"10 to 14 years\",\n",
    "\"15 to 19 years\",\n",
    "\"20 to 24 years\",\n",
    "\"25 to 29 years\",\n",
    "\"30 to 34 years\",\n",
    "\"35 to 39 years\",\n",
    "\"40 to 44 years\",\n",
    "\"45 to 49 years\",\n",
    "\"50 to 54 years\",\n",
    "\"55 to 59 years\",\n",
    "\"60 to 64 years\",\n",
    "\"65 to 69 years\",\n",
    "\"70 to 74 years\",\n",
    "\"75 to 79 years\",\n",
    "\"80 to 84 years\",\n",
    "\"85 years and older\",\n",
    "\"Under 18 years\",  \n",
    "\"5 to 13 years\",  \n",
    "\"14 to 17 years\",  \n",
    "\"18 to 64 years\", \n",
    "\"18 to 24 years\",  \n",
    "\"25 to 44 years\",  \n",
    "\"45 to 64 years\",  \n",
    "\"65 years and over\",  \n",
    "\"85 years and over\",  \n",
    "\"16 years and over\",  \n",
    "\"18 years and over\", \n",
    "\"15 to 44 years\",  \n",
    "\"Median age\"])\n",
    "age_sex_df[\"Population\"] = age_sex_df[\"Population\"].astype(float)"
   ]
  },
  {
   "cell_type": "code",
   "execution_count": 574,
   "metadata": {},
   "outputs": [],
   "source": [
    "### Population by Gender\n",
    "sex_array = [\"All ages\"]\n",
    "m_f_array = [\"Male\", \"Female\"]\n",
    "reduced_sex_df = age_sex_df.loc[age_sex_df[\"Age_group\"].isin(sex_array)]\n",
    "reduced_sex_df = reduced_sex_df.loc[age_sex_df[\"Gender\"].isin(m_f_array)]\n",
    "reduced_sex_df = reduced_sex_df.reset_index(drop=True)\n",
    "reduced_sex_df = reduced_sex_df.drop([\"Age_group\"],axis = 1)"
   ]
  },
  {
   "cell_type": "code",
   "execution_count": 575,
   "metadata": {},
   "outputs": [],
   "source": [
    "#Groupby County, Gender\n",
    "group_sex = reduced_sex_df.groupby([\"County\", \"Gender\"])\n",
    "group_sex_df = pd.DataFrame(group_sex[\"Population\"].sum())"
   ]
  },
  {
   "cell_type": "code",
   "execution_count": 576,
   "metadata": {},
   "outputs": [],
   "source": [
    "#slice for male and female\n",
    "idx = pd.IndexSlice\n",
    "\n",
    "Female_df = group_sex_df.loc[idx[:,[\"Female\"]], :]\n",
    "Male_df = group_sex_df.loc[idx[:,[\"Male\"]], :]"
   ]
  },
  {
   "cell_type": "code",
   "execution_count": 577,
   "metadata": {},
   "outputs": [
    {
     "data": {
      "text/html": [
       "<div>\n",
       "<style scoped>\n",
       "    .dataframe tbody tr th:only-of-type {\n",
       "        vertical-align: middle;\n",
       "    }\n",
       "\n",
       "    .dataframe tbody tr th {\n",
       "        vertical-align: top;\n",
       "    }\n",
       "\n",
       "    .dataframe thead th {\n",
       "        text-align: right;\n",
       "    }\n",
       "</style>\n",
       "<table border=\"1\" class=\"dataframe\">\n",
       "  <thead>\n",
       "    <tr style=\"text-align: right;\">\n",
       "      <th></th>\n",
       "      <th>County</th>\n",
       "      <th>Total_Population</th>\n",
       "      <th>State_Num</th>\n",
       "      <th>County_Num</th>\n",
       "      <th>Female_Pop</th>\n",
       "      <th>Male_pop</th>\n",
       "    </tr>\n",
       "  </thead>\n",
       "  <tbody>\n",
       "    <tr>\n",
       "      <th>0</th>\n",
       "      <td>Atlantic County</td>\n",
       "      <td>263670.0</td>\n",
       "      <td>34</td>\n",
       "      <td>34001</td>\n",
       "      <td>136079.0</td>\n",
       "      <td>127591.0</td>\n",
       "    </tr>\n",
       "    <tr>\n",
       "      <th>1</th>\n",
       "      <td>Bergen County</td>\n",
       "      <td>932202.0</td>\n",
       "      <td>34</td>\n",
       "      <td>34003</td>\n",
       "      <td>479536.0</td>\n",
       "      <td>452666.0</td>\n",
       "    </tr>\n",
       "    <tr>\n",
       "      <th>2</th>\n",
       "      <td>Burlington County</td>\n",
       "      <td>445349.0</td>\n",
       "      <td>34</td>\n",
       "      <td>34005</td>\n",
       "      <td>226147.0</td>\n",
       "      <td>219202.0</td>\n",
       "    </tr>\n",
       "    <tr>\n",
       "      <th>3</th>\n",
       "      <td>Camden County</td>\n",
       "      <td>506471.0</td>\n",
       "      <td>34</td>\n",
       "      <td>34007</td>\n",
       "      <td>262041.0</td>\n",
       "      <td>244430.0</td>\n",
       "    </tr>\n",
       "    <tr>\n",
       "      <th>4</th>\n",
       "      <td>Cape May County</td>\n",
       "      <td>92039.0</td>\n",
       "      <td>34</td>\n",
       "      <td>34009</td>\n",
       "      <td>47171.0</td>\n",
       "      <td>44868.0</td>\n",
       "    </tr>\n",
       "    <tr>\n",
       "      <th>5</th>\n",
       "      <td>Cumberland County</td>\n",
       "      <td>149527.0</td>\n",
       "      <td>34</td>\n",
       "      <td>34011</td>\n",
       "      <td>73366.0</td>\n",
       "      <td>76161.0</td>\n",
       "    </tr>\n",
       "    <tr>\n",
       "      <th>6</th>\n",
       "      <td>Essex County</td>\n",
       "      <td>798975.0</td>\n",
       "      <td>34</td>\n",
       "      <td>34013</td>\n",
       "      <td>414401.0</td>\n",
       "      <td>384574.0</td>\n",
       "    </tr>\n",
       "    <tr>\n",
       "      <th>7</th>\n",
       "      <td>Gloucester County</td>\n",
       "      <td>291636.0</td>\n",
       "      <td>34</td>\n",
       "      <td>34015</td>\n",
       "      <td>149790.0</td>\n",
       "      <td>141846.0</td>\n",
       "    </tr>\n",
       "    <tr>\n",
       "      <th>8</th>\n",
       "      <td>Hudson County</td>\n",
       "      <td>672391.0</td>\n",
       "      <td>34</td>\n",
       "      <td>34017</td>\n",
       "      <td>337404.0</td>\n",
       "      <td>334987.0</td>\n",
       "    </tr>\n",
       "    <tr>\n",
       "      <th>9</th>\n",
       "      <td>Hunterdon County</td>\n",
       "      <td>124371.0</td>\n",
       "      <td>34</td>\n",
       "      <td>34019</td>\n",
       "      <td>63032.0</td>\n",
       "      <td>61339.0</td>\n",
       "    </tr>\n",
       "    <tr>\n",
       "      <th>10</th>\n",
       "      <td>Mercer County</td>\n",
       "      <td>367430.0</td>\n",
       "      <td>34</td>\n",
       "      <td>34021</td>\n",
       "      <td>187675.0</td>\n",
       "      <td>179755.0</td>\n",
       "    </tr>\n",
       "    <tr>\n",
       "      <th>11</th>\n",
       "      <td>Middlesex County</td>\n",
       "      <td>825062.0</td>\n",
       "      <td>34</td>\n",
       "      <td>34023</td>\n",
       "      <td>417800.0</td>\n",
       "      <td>407262.0</td>\n",
       "    </tr>\n",
       "    <tr>\n",
       "      <th>12</th>\n",
       "      <td>Monmouth County</td>\n",
       "      <td>618795.0</td>\n",
       "      <td>34</td>\n",
       "      <td>34025</td>\n",
       "      <td>317732.0</td>\n",
       "      <td>301063.0</td>\n",
       "    </tr>\n",
       "    <tr>\n",
       "      <th>13</th>\n",
       "      <td>Morris County</td>\n",
       "      <td>491845.0</td>\n",
       "      <td>34</td>\n",
       "      <td>34027</td>\n",
       "      <td>249924.0</td>\n",
       "      <td>241921.0</td>\n",
       "    </tr>\n",
       "    <tr>\n",
       "      <th>14</th>\n",
       "      <td>Ocean County</td>\n",
       "      <td>607186.0</td>\n",
       "      <td>34</td>\n",
       "      <td>34029</td>\n",
       "      <td>313896.0</td>\n",
       "      <td>293290.0</td>\n",
       "    </tr>\n",
       "    <tr>\n",
       "      <th>15</th>\n",
       "      <td>Passaic County</td>\n",
       "      <td>501826.0</td>\n",
       "      <td>34</td>\n",
       "      <td>34031</td>\n",
       "      <td>256949.0</td>\n",
       "      <td>244877.0</td>\n",
       "    </tr>\n",
       "    <tr>\n",
       "      <th>16</th>\n",
       "      <td>Salem County</td>\n",
       "      <td>62385.0</td>\n",
       "      <td>34</td>\n",
       "      <td>34033</td>\n",
       "      <td>31838.0</td>\n",
       "      <td>30547.0</td>\n",
       "    </tr>\n",
       "    <tr>\n",
       "      <th>17</th>\n",
       "      <td>Somerset County</td>\n",
       "      <td>328934.0</td>\n",
       "      <td>34</td>\n",
       "      <td>34035</td>\n",
       "      <td>168004.0</td>\n",
       "      <td>160930.0</td>\n",
       "    </tr>\n",
       "    <tr>\n",
       "      <th>18</th>\n",
       "      <td>Sussex County</td>\n",
       "      <td>140488.0</td>\n",
       "      <td>34</td>\n",
       "      <td>34037</td>\n",
       "      <td>70685.0</td>\n",
       "      <td>69803.0</td>\n",
       "    </tr>\n",
       "    <tr>\n",
       "      <th>19</th>\n",
       "      <td>Union County</td>\n",
       "      <td>556341.0</td>\n",
       "      <td>34</td>\n",
       "      <td>34039</td>\n",
       "      <td>284440.0</td>\n",
       "      <td>271901.0</td>\n",
       "    </tr>\n",
       "    <tr>\n",
       "      <th>20</th>\n",
       "      <td>Warren County</td>\n",
       "      <td>105267.0</td>\n",
       "      <td>34</td>\n",
       "      <td>34041</td>\n",
       "      <td>53693.0</td>\n",
       "      <td>51574.0</td>\n",
       "    </tr>\n",
       "  </tbody>\n",
       "</table>\n",
       "</div>"
      ],
      "text/plain": [
       "               County  Total_Population State_Num County_Num  Female_Pop  \\\n",
       "0     Atlantic County          263670.0        34      34001    136079.0   \n",
       "1       Bergen County          932202.0        34      34003    479536.0   \n",
       "2   Burlington County          445349.0        34      34005    226147.0   \n",
       "3       Camden County          506471.0        34      34007    262041.0   \n",
       "4     Cape May County           92039.0        34      34009     47171.0   \n",
       "5   Cumberland County          149527.0        34      34011     73366.0   \n",
       "6        Essex County          798975.0        34      34013    414401.0   \n",
       "7   Gloucester County          291636.0        34      34015    149790.0   \n",
       "8       Hudson County          672391.0        34      34017    337404.0   \n",
       "9    Hunterdon County          124371.0        34      34019     63032.0   \n",
       "10      Mercer County          367430.0        34      34021    187675.0   \n",
       "11   Middlesex County          825062.0        34      34023    417800.0   \n",
       "12    Monmouth County          618795.0        34      34025    317732.0   \n",
       "13      Morris County          491845.0        34      34027    249924.0   \n",
       "14       Ocean County          607186.0        34      34029    313896.0   \n",
       "15     Passaic County          501826.0        34      34031    256949.0   \n",
       "16       Salem County           62385.0        34      34033     31838.0   \n",
       "17    Somerset County          328934.0        34      34035    168004.0   \n",
       "18      Sussex County          140488.0        34      34037     70685.0   \n",
       "19       Union County          556341.0        34      34039    284440.0   \n",
       "20      Warren County          105267.0        34      34041     53693.0   \n",
       "\n",
       "    Male_pop  \n",
       "0   127591.0  \n",
       "1   452666.0  \n",
       "2   219202.0  \n",
       "3   244430.0  \n",
       "4    44868.0  \n",
       "5    76161.0  \n",
       "6   384574.0  \n",
       "7   141846.0  \n",
       "8   334987.0  \n",
       "9    61339.0  \n",
       "10  179755.0  \n",
       "11  407262.0  \n",
       "12  301063.0  \n",
       "13  241921.0  \n",
       "14  293290.0  \n",
       "15  244877.0  \n",
       "16   30547.0  \n",
       "17  160930.0  \n",
       "18   69803.0  \n",
       "19  271901.0  \n",
       "20   51574.0  "
      ]
     },
     "execution_count": 577,
     "metadata": {},
     "output_type": "execute_result"
    }
   ],
   "source": [
    "#Merge Gender Population to Total Population DataFrame\n",
    "sex_merged_df = pd.merge(pop_df, Female_df, on=\"County\")\n",
    "both_sex_merged_df = pd.merge(sex_merged_df, Male_df, on=\"County\")\n",
    "both_sex_merged_df = both_sex_merged_df.rename(columns={\"Population_x\":\"Total_Population\",\"Population_y\":\"Female_Pop\",\"Population\": \"Male_pop\"})\n",
    "both_sex_merged_df"
   ]
  },
  {
   "cell_type": "markdown",
   "metadata": {},
   "source": [
    "### Age population dataframe"
   ]
  },
  {
   "cell_type": "code",
   "execution_count": 578,
   "metadata": {},
   "outputs": [],
   "source": [
    "### Total Population by Age groups\n",
    "Age_array = [\"50 to 54 years\",\n",
    "\"55 to 59 years\",\n",
    "\"60 to 64 years\",\"Under 18 years\",\"18 to 24 years\",  \n",
    "\"25 to 44 years\",\"45 to 49 years\",\"65 years and over\"]\n",
    "both_genders_array = [\"M&F\"]\n",
    "reduced_age_df = age_sex_df.loc[age_sex_df[\"Gender\"].isin(both_genders_array)]\n",
    "reduced_age_df = reduced_age_df.loc[age_sex_df[\"Age_group\"].isin(Age_array)]\n",
    "reduced_age_df = reduced_age_df.reset_index(drop=True)\n",
    "reduced_age_df = reduced_age_df.drop([\"Gender\"],axis = 1)"
   ]
  },
  {
   "cell_type": "code",
   "execution_count": 579,
   "metadata": {},
   "outputs": [],
   "source": [
    "#### Group by County, Age\n",
    "group_age_df = reduced_age_df.groupby([\"County\", \"Age_group\"]).sum()"
   ]
  },
  {
   "cell_type": "code",
   "execution_count": 580,
   "metadata": {},
   "outputs": [],
   "source": [
    "## Slice data for each age group\n",
    "idx = pd.IndexSlice\n",
    "\n",
    "under_eighteen_df = group_age_df.loc[idx[:,[\"Under 18 years\"]], :]\n",
    "over_sixtyfive_df = group_age_df.loc[idx[:,[\"65 years and over\"]], :]\n",
    "\n",
    "eighteen_to_twentyfour_df = group_age_df.loc[idx[:,[\"18 to 24 years\"]], :]\n",
    "twentyfive_to_fourtyfour_df = group_age_df.loc[idx[:,[\"25 to 44 years\"]], :]\n",
    "fourtyfour_to_fourtynine_df = group_age_df.loc[idx[:,[\"45 to 49 years\"]], :]\n",
    "\n",
    "fifty_to_fiftyfour_df = group_age_df.loc[idx[:,[\"50 to 54 years\"]], :]\n",
    "fiftyfive_to_fiftynine_df = group_age_df.loc[idx[:,[\"55 to 59 years\"]], :]\n",
    "sixty_to_sixtyfour_df = group_age_df.loc[idx[:,[\"60 to 64 years\"]], :]"
   ]
  },
  {
   "cell_type": "code",
   "execution_count": 581,
   "metadata": {},
   "outputs": [],
   "source": [
    "## 18 - 49 dataframe\n",
    "eighteen_to_twentyfour_merged_df = pd.merge(eighteen_to_twentyfour_df,twentyfive_to_fourtyfour_df, on=\"County\",how=\"left\")\n",
    "eighteen_to_fourtynine_base_merged_df = pd.merge(eighteen_to_twentyfour_merged_df, fourtyfour_to_fourtynine_df, on=\"County\",how=\"left\")\n",
    "\n",
    "cols_to_sum = eighteen_to_fourtynine_base_merged_df.columns[ : eighteen_to_fourtynine_base_merged_df.shape[1]]\n",
    "eighteen_to_fourtynine_base_merged_df['18_to_49_years_population'] = eighteen_to_fourtynine_base_merged_df[cols_to_sum].sum(axis=1)\n",
    "eighteen_to_fourtynine_merged_df = eighteen_to_fourtynine_base_merged_df.drop([\"Population\",\"Population_x\",\"Population_y\"],axis=1)"
   ]
  },
  {
   "cell_type": "code",
   "execution_count": 582,
   "metadata": {},
   "outputs": [],
   "source": [
    "## 50 - 64 dataframe\n",
    "fifty_to_fiftyfour_merged_df = pd.merge(fifty_to_fiftyfour_df,fiftyfive_to_fiftynine_df, on=\"County\",how=\"left\")\n",
    "fifty_to_sixtyfour_base_merged_df = pd.merge(fifty_to_fiftyfour_merged_df, sixty_to_sixtyfour_df, on=\"County\",how=\"left\")\n",
    "\n",
    "other_cols_to_sum = fifty_to_sixtyfour_base_merged_df.columns[ : fifty_to_sixtyfour_base_merged_df.shape[1]]\n",
    "fifty_to_sixtyfour_base_merged_df['50_to_64_years_population'] = fifty_to_sixtyfour_base_merged_df[cols_to_sum].sum(axis=1)\n",
    "fifty_to_sixtyfour_base_merged_df = fifty_to_sixtyfour_base_merged_df.drop([\"Population\",\"Population_x\",\"Population_y\"],axis=1)"
   ]
  },
  {
   "cell_type": "markdown",
   "metadata": {},
   "source": [
    "### Finale age/gender population dataframe"
   ]
  },
  {
   "cell_type": "code",
   "execution_count": 583,
   "metadata": {},
   "outputs": [],
   "source": [
    "## Merged Age and Gender Population DataFrame\n",
    "\n",
    "under_eighteen_merged_df = pd.merge(both_sex_merged_df, under_eighteen_df, on=\"County\",how='left')\n",
    "eighteen_to_fourtynine_base_merged_df = pd.merge(under_eighteen_merged_df, eighteen_to_fourtynine_merged_df, on=\"County\",how='left')\n",
    "fifty_to_sixtyfour_merged_df = pd.merge(eighteen_to_fourtynine_base_merged_df, fifty_to_sixtyfour_base_merged_df, on=\"County\",how=\"left\")\n",
    "over_sixtyfive_merged_df = pd.merge(fifty_to_sixtyfour_merged_df, over_sixtyfive_df, on=\"County\",how=\"left\")\n",
    "\n",
    "over_sixtyfive_merged_df = over_sixtyfive_merged_df.rename(columns={\"Population_x\": \"Under_18_Population\",\"Population_y\": \"65_and_over_Population\"})\n",
    "tot_age_gender_pop_df = over_sixtyfive_merged_df[[\"County\",\"County_Num\",\"State_Num\",\"Female_Pop\",\"Male_pop\",\"Total_Population\",\"Under_18_Population\",\"18_to_49_years_population\",\"50_to_64_years_population\",\"65_and_over_Population\"]]\n",
    "tot_age_gender_pop_df[\"County\"] = tot_age_gender_pop_df[\"County\"].str.upper()"
   ]
  },
  {
   "cell_type": "markdown",
   "metadata": {},
   "source": [
    "# Gender/Age Cases Cleaning"
   ]
  },
  {
   "cell_type": "code",
   "execution_count": 584,
   "metadata": {},
   "outputs": [],
   "source": [
    "Total_case_url = \"https://data.cdc.gov/resource/n8mc-b4w4.json?res_state=NJ&$limit=1100000\""
   ]
  },
  {
   "cell_type": "code",
   "execution_count": 585,
   "metadata": {
    "scrolled": true
   },
   "outputs": [
    {
     "name": "stdout",
     "output_type": "stream",
     "text": [
      "https://data.cdc.gov/resource/n8mc-b4w4.json?res_state=NJ&$limit=1100000\n"
     ]
    }
   ],
   "source": [
    "tot_case_G_A_response = requests.get(Total_case_url)\n",
    "print(tot_case_G_A_response.url)"
   ]
  },
  {
   "cell_type": "code",
   "execution_count": 586,
   "metadata": {},
   "outputs": [],
   "source": [
    "gender_age_cases_raw = tot_case_G_A_response.json()\n",
    "gender_age_cases_df = pd.DataFrame(gender_age_cases_raw)\n",
    "gender_age_cases_df = gender_age_cases_df[[\"state_fips_code\",\"res_county\",\"county_fips_code\",\"age_group\",\"sex\"]]\n",
    "gender_age_cases_df = gender_age_cases_df.rename(columns={\"res_county\":\"County\"})\n",
    "gender_age_cases_df['County'] = gender_age_cases_df['County'].astype(str) + ' COUNTY'"
   ]
  },
  {
   "cell_type": "markdown",
   "metadata": {},
   "source": [
    "### Total cases per Gender"
   ]
  },
  {
   "cell_type": "code",
   "execution_count": 587,
   "metadata": {},
   "outputs": [],
   "source": [
    "cases_gender_df = gender_age_cases_df.groupby([\"County\", \"sex\"]).count()\n",
    "cases_gender_df = cases_gender_df.rename(columns={\"state_fips_code\":\"cases_per_gender\"})\n",
    "cases_gender_df = cases_gender_df[[\"cases_per_gender\"]]"
   ]
  },
  {
   "cell_type": "code",
   "execution_count": 588,
   "metadata": {},
   "outputs": [],
   "source": [
    "Female_cases_df = cases_gender_df.loc[idx[:,[\"Female\"]], :]\n",
    "Male_cases_df = cases_gender_df.loc[idx[:,[\"Male\"]], :]"
   ]
  },
  {
   "cell_type": "markdown",
   "metadata": {},
   "source": [
    "### Total cases by Age-group"
   ]
  },
  {
   "cell_type": "code",
   "execution_count": 589,
   "metadata": {},
   "outputs": [],
   "source": [
    "cases_age_df = gender_age_cases_df.groupby([\"County\", \"age_group\"]).count()\n",
    "cases_age_df = cases_age_df.rename(columns={\"county_fips_code\":\"cases_per_age\"})\n",
    "cases_age_df = cases_age_df[[\"cases_per_age\"]]"
   ]
  },
  {
   "cell_type": "code",
   "execution_count": 590,
   "metadata": {},
   "outputs": [],
   "source": [
    "under18_cases_df = cases_age_df.loc[idx[:,[\"0 - 17 years\"]], :]\n",
    "eighteen_to_fourtynine_cases_df = cases_age_df.loc[idx[:,[\"18 to 49 years\"]], :]\n",
    "fifty_to_sixtyfour_cases_df = cases_age_df.loc[idx[:,[\"50 to 64 years\"]], :]\n",
    "over65_cases_df = cases_age_df.loc[idx[:,[\"65+ years\"]], :]"
   ]
  },
  {
   "cell_type": "code",
   "execution_count": 591,
   "metadata": {},
   "outputs": [],
   "source": [
    "## age group cases dataframe \n",
    "first_age_merge = pd.merge(under18_cases_df,eighteen_to_fourtynine_cases_df, on=\"County\", how=\"left\")\n",
    "second_age_merge = pd.merge(first_age_merge,fifty_to_sixtyfour_cases_df, on=\"County\", how=\"left\")\n",
    "final_age_merge = pd.merge(second_age_merge,over65_cases_df, on=\"County\", how=\"left\")\n",
    "final_age_merge.columns=[\"under18_cases\",\"18_to_49_cases\",\"50_to_64_cases\",\"65+_cases\"]\n",
    "final_age_merge[\"Total_cases_by_age\"] = final_age_merge[\"under18_cases\"]+final_age_merge[\"18_to_49_cases\"]+final_age_merge[\"50_to_64_cases\"]+final_age_merge[\"65+_cases\"]"
   ]
  },
  {
   "cell_type": "markdown",
   "metadata": {},
   "source": [
    "# Final Clean-Merged DataFrame"
   ]
  },
  {
   "cell_type": "code",
   "execution_count": 632,
   "metadata": {},
   "outputs": [],
   "source": [
    "female_cases_merged_df = pd.merge(tot_age_gender_pop_df, Female_cases_df, on=\"County\",how='left')\n",
    "Gender_cases_pop_df = female_cases_merged_df = pd.merge(female_cases_merged_df, Male_cases_df, on=\"County\",how='left')\n",
    "Gender_cases_pop_df = Gender_cases_pop_df.rename(columns={\"cases_per_gender_x\": \"Female_cases\", \"cases_per_gender_y\": \"Male_cases\"})\n",
    "Gender_cases_pop_df[\"Total__gender_cases_w/o_unknown\"] = Gender_cases_pop_df[\"Female_cases\"] + Gender_cases_pop_df[\"Male_cases\"] \n",
    "Gender_age_cases_pop_df = pd.merge(Gender_cases_pop_df, Male_cases_df, on=\"County\",how='left')\n",
    "Total_gender_age_cases_pop = pd.merge(Gender_age_cases_pop_df, final_age_merge, on=\"County\",how='left')\n",
    "Total_gender_age_cases_pop = Total_gender_age_cases_pop.drop([\"State_Num\",\"cases_per_gender\"],axis=1)\n",
    "Total_gender_age_cases_pop = Total_gender_age_cases_pop.set_index(\"County\")\n",
    "\n",
    "Total_gender_age_cases_pop.to_csv(\"Age_Gender_cases_population.csv\")\n",
    "\n"
   ]
  },
  {
   "cell_type": "code",
   "execution_count": 634,
   "metadata": {},
   "outputs": [
    {
     "data": {
      "text/html": [
       "<div>\n",
       "<style scoped>\n",
       "    .dataframe tbody tr th:only-of-type {\n",
       "        vertical-align: middle;\n",
       "    }\n",
       "\n",
       "    .dataframe tbody tr th {\n",
       "        vertical-align: top;\n",
       "    }\n",
       "\n",
       "    .dataframe thead th {\n",
       "        text-align: right;\n",
       "    }\n",
       "</style>\n",
       "<table border=\"1\" class=\"dataframe\">\n",
       "  <thead>\n",
       "    <tr style=\"text-align: right;\">\n",
       "      <th></th>\n",
       "      <th>County_Num</th>\n",
       "      <th>Female_Pop</th>\n",
       "      <th>Male_pop</th>\n",
       "      <th>Total_Population</th>\n",
       "      <th>Under_18_Population</th>\n",
       "      <th>18_to_49_years_population</th>\n",
       "      <th>50_to_64_years_population</th>\n",
       "      <th>65_and_over_Population</th>\n",
       "      <th>Female_cases</th>\n",
       "      <th>Male_cases</th>\n",
       "      <th>Total__gender_cases_w/o_unknown</th>\n",
       "      <th>under18_cases</th>\n",
       "      <th>18_to_49_cases</th>\n",
       "      <th>50_to_64_cases</th>\n",
       "      <th>65+_cases</th>\n",
       "      <th>Total_cases_by_age</th>\n",
       "    </tr>\n",
       "    <tr>\n",
       "      <th>County</th>\n",
       "      <th></th>\n",
       "      <th></th>\n",
       "      <th></th>\n",
       "      <th></th>\n",
       "      <th></th>\n",
       "      <th></th>\n",
       "      <th></th>\n",
       "      <th></th>\n",
       "      <th></th>\n",
       "      <th></th>\n",
       "      <th></th>\n",
       "      <th></th>\n",
       "      <th></th>\n",
       "      <th></th>\n",
       "      <th></th>\n",
       "      <th></th>\n",
       "    </tr>\n",
       "  </thead>\n",
       "  <tbody>\n",
       "    <tr>\n",
       "      <th>ATLANTIC COUNTY</th>\n",
       "      <td>34001</td>\n",
       "      <td>136079.0</td>\n",
       "      <td>127591.0</td>\n",
       "      <td>263670.0</td>\n",
       "      <td>55537.0</td>\n",
       "      <td>101017.0</td>\n",
       "      <td>58089.0</td>\n",
       "      <td>49027.0</td>\n",
       "      <td>17255</td>\n",
       "      <td>15353</td>\n",
       "      <td>32608</td>\n",
       "      <td>4035</td>\n",
       "      <td>16432</td>\n",
       "      <td>7268</td>\n",
       "      <td>4676</td>\n",
       "      <td>32411</td>\n",
       "    </tr>\n",
       "    <tr>\n",
       "      <th>BERGEN COUNTY</th>\n",
       "      <td>34003</td>\n",
       "      <td>479536.0</td>\n",
       "      <td>452666.0</td>\n",
       "      <td>932202.0</td>\n",
       "      <td>196309.0</td>\n",
       "      <td>370475.0</td>\n",
       "      <td>200750.0</td>\n",
       "      <td>164668.0</td>\n",
       "      <td>54201</td>\n",
       "      <td>51968</td>\n",
       "      <td>106169</td>\n",
       "      <td>14645</td>\n",
       "      <td>51608</td>\n",
       "      <td>23955</td>\n",
       "      <td>15593</td>\n",
       "      <td>105801</td>\n",
       "    </tr>\n",
       "    <tr>\n",
       "      <th>BURLINGTON COUNTY</th>\n",
       "      <td>34005</td>\n",
       "      <td>226147.0</td>\n",
       "      <td>219202.0</td>\n",
       "      <td>445349.0</td>\n",
       "      <td>92159.0</td>\n",
       "      <td>177598.0</td>\n",
       "      <td>98227.0</td>\n",
       "      <td>77365.0</td>\n",
       "      <td>22639</td>\n",
       "      <td>22150</td>\n",
       "      <td>44789</td>\n",
       "      <td>5367</td>\n",
       "      <td>23317</td>\n",
       "      <td>10013</td>\n",
       "      <td>5833</td>\n",
       "      <td>44530</td>\n",
       "    </tr>\n",
       "    <tr>\n",
       "      <th>CAMDEN COUNTY</th>\n",
       "      <td>34007</td>\n",
       "      <td>262041.0</td>\n",
       "      <td>244430.0</td>\n",
       "      <td>506471.0</td>\n",
       "      <td>114223.0</td>\n",
       "      <td>209032.0</td>\n",
       "      <td>101686.0</td>\n",
       "      <td>81530.0</td>\n",
       "      <td>30803</td>\n",
       "      <td>27025</td>\n",
       "      <td>57828</td>\n",
       "      <td>7226</td>\n",
       "      <td>30336</td>\n",
       "      <td>12033</td>\n",
       "      <td>7740</td>\n",
       "      <td>57335</td>\n",
       "    </tr>\n",
       "    <tr>\n",
       "      <th>CAPE MAY COUNTY</th>\n",
       "      <td>34009</td>\n",
       "      <td>47171.0</td>\n",
       "      <td>44868.0</td>\n",
       "      <td>92039.0</td>\n",
       "      <td>15950.0</td>\n",
       "      <td>29627.0</td>\n",
       "      <td>21296.0</td>\n",
       "      <td>25166.0</td>\n",
       "      <td>4774</td>\n",
       "      <td>4598</td>\n",
       "      <td>9372</td>\n",
       "      <td>1103</td>\n",
       "      <td>4530</td>\n",
       "      <td>2206</td>\n",
       "      <td>1807</td>\n",
       "      <td>9646</td>\n",
       "    </tr>\n",
       "    <tr>\n",
       "      <th>CUMBERLAND COUNTY</th>\n",
       "      <td>34011</td>\n",
       "      <td>73366.0</td>\n",
       "      <td>76161.0</td>\n",
       "      <td>149527.0</td>\n",
       "      <td>35480.0</td>\n",
       "      <td>62520.0</td>\n",
       "      <td>28135.0</td>\n",
       "      <td>23392.0</td>\n",
       "      <td>9137</td>\n",
       "      <td>8976</td>\n",
       "      <td>18113</td>\n",
       "      <td>1863</td>\n",
       "      <td>9926</td>\n",
       "      <td>3779</td>\n",
       "      <td>2451</td>\n",
       "      <td>18019</td>\n",
       "    </tr>\n",
       "    <tr>\n",
       "      <th>ESSEX COUNTY</th>\n",
       "      <td>34013</td>\n",
       "      <td>414401.0</td>\n",
       "      <td>384574.0</td>\n",
       "      <td>798975.0</td>\n",
       "      <td>189397.0</td>\n",
       "      <td>346184.0</td>\n",
       "      <td>152292.0</td>\n",
       "      <td>111102.0</td>\n",
       "      <td>50547</td>\n",
       "      <td>45174</td>\n",
       "      <td>95721</td>\n",
       "      <td>12657</td>\n",
       "      <td>50349</td>\n",
       "      <td>20423</td>\n",
       "      <td>12237</td>\n",
       "      <td>95666</td>\n",
       "    </tr>\n",
       "    <tr>\n",
       "      <th>GLOUCESTER COUNTY</th>\n",
       "      <td>34015</td>\n",
       "      <td>149790.0</td>\n",
       "      <td>141846.0</td>\n",
       "      <td>291636.0</td>\n",
       "      <td>63099.0</td>\n",
       "      <td>117965.0</td>\n",
       "      <td>63000.0</td>\n",
       "      <td>47572.0</td>\n",
       "      <td>16416</td>\n",
       "      <td>14660</td>\n",
       "      <td>31076</td>\n",
       "      <td>3974</td>\n",
       "      <td>16371</td>\n",
       "      <td>6691</td>\n",
       "      <td>4067</td>\n",
       "      <td>31103</td>\n",
       "    </tr>\n",
       "    <tr>\n",
       "      <th>HUDSON COUNTY</th>\n",
       "      <td>34017</td>\n",
       "      <td>337404.0</td>\n",
       "      <td>334987.0</td>\n",
       "      <td>672391.0</td>\n",
       "      <td>136715.0</td>\n",
       "      <td>342843.0</td>\n",
       "      <td>110926.0</td>\n",
       "      <td>81907.0</td>\n",
       "      <td>44734</td>\n",
       "      <td>43143</td>\n",
       "      <td>87877</td>\n",
       "      <td>9333</td>\n",
       "      <td>49901</td>\n",
       "      <td>17990</td>\n",
       "      <td>10720</td>\n",
       "      <td>87944</td>\n",
       "    </tr>\n",
       "    <tr>\n",
       "      <th>HUNTERDON COUNTY</th>\n",
       "      <td>34019</td>\n",
       "      <td>63032.0</td>\n",
       "      <td>61339.0</td>\n",
       "      <td>124371.0</td>\n",
       "      <td>23712.0</td>\n",
       "      <td>44104.0</td>\n",
       "      <td>32469.0</td>\n",
       "      <td>24086.0</td>\n",
       "      <td>4886</td>\n",
       "      <td>4956</td>\n",
       "      <td>9842</td>\n",
       "      <td>1429</td>\n",
       "      <td>4709</td>\n",
       "      <td>2669</td>\n",
       "      <td>1320</td>\n",
       "      <td>10127</td>\n",
       "    </tr>\n",
       "    <tr>\n",
       "      <th>MERCER COUNTY</th>\n",
       "      <td>34021</td>\n",
       "      <td>187675.0</td>\n",
       "      <td>179755.0</td>\n",
       "      <td>367430.0</td>\n",
       "      <td>78062.0</td>\n",
       "      <td>158219.0</td>\n",
       "      <td>73662.0</td>\n",
       "      <td>57487.0</td>\n",
       "      <td>18535</td>\n",
       "      <td>17468</td>\n",
       "      <td>36003</td>\n",
       "      <td>3841</td>\n",
       "      <td>18972</td>\n",
       "      <td>7607</td>\n",
       "      <td>4769</td>\n",
       "      <td>35189</td>\n",
       "    </tr>\n",
       "    <tr>\n",
       "      <th>MIDDLESEX COUNTY</th>\n",
       "      <td>34023</td>\n",
       "      <td>417800.0</td>\n",
       "      <td>407262.0</td>\n",
       "      <td>825062.0</td>\n",
       "      <td>178792.0</td>\n",
       "      <td>354591.0</td>\n",
       "      <td>163916.0</td>\n",
       "      <td>127763.0</td>\n",
       "      <td>47020</td>\n",
       "      <td>46257</td>\n",
       "      <td>93277</td>\n",
       "      <td>11328</td>\n",
       "      <td>49689</td>\n",
       "      <td>20189</td>\n",
       "      <td>11890</td>\n",
       "      <td>93096</td>\n",
       "    </tr>\n",
       "    <tr>\n",
       "      <th>MONMOUTH COUNTY</th>\n",
       "      <td>34025</td>\n",
       "      <td>317732.0</td>\n",
       "      <td>301063.0</td>\n",
       "      <td>618795.0</td>\n",
       "      <td>129412.0</td>\n",
       "      <td>231092.0</td>\n",
       "      <td>145793.0</td>\n",
       "      <td>112498.0</td>\n",
       "      <td>40054</td>\n",
       "      <td>38292</td>\n",
       "      <td>78346</td>\n",
       "      <td>11516</td>\n",
       "      <td>38540</td>\n",
       "      <td>17754</td>\n",
       "      <td>10244</td>\n",
       "      <td>78054</td>\n",
       "    </tr>\n",
       "    <tr>\n",
       "      <th>MORRIS COUNTY</th>\n",
       "      <td>34027</td>\n",
       "      <td>249924.0</td>\n",
       "      <td>241921.0</td>\n",
       "      <td>491845.0</td>\n",
       "      <td>102477.0</td>\n",
       "      <td>190670.0</td>\n",
       "      <td>112212.0</td>\n",
       "      <td>86486.0</td>\n",
       "      <td>25564</td>\n",
       "      <td>25340</td>\n",
       "      <td>50904</td>\n",
       "      <td>6777</td>\n",
       "      <td>24842</td>\n",
       "      <td>12117</td>\n",
       "      <td>6984</td>\n",
       "      <td>50720</td>\n",
       "    </tr>\n",
       "    <tr>\n",
       "      <th>OCEAN COUNTY</th>\n",
       "      <td>34029</td>\n",
       "      <td>313896.0</td>\n",
       "      <td>293290.0</td>\n",
       "      <td>607186.0</td>\n",
       "      <td>146690.0</td>\n",
       "      <td>204381.0</td>\n",
       "      <td>117787.0</td>\n",
       "      <td>138328.0</td>\n",
       "      <td>40626</td>\n",
       "      <td>37572</td>\n",
       "      <td>78198</td>\n",
       "      <td>11074</td>\n",
       "      <td>37784</td>\n",
       "      <td>16043</td>\n",
       "      <td>13238</td>\n",
       "      <td>78139</td>\n",
       "    </tr>\n",
       "    <tr>\n",
       "      <th>PASSAIC COUNTY</th>\n",
       "      <td>34031</td>\n",
       "      <td>256949.0</td>\n",
       "      <td>244877.0</td>\n",
       "      <td>501826.0</td>\n",
       "      <td>119018.0</td>\n",
       "      <td>210572.0</td>\n",
       "      <td>97056.0</td>\n",
       "      <td>75180.0</td>\n",
       "      <td>38326</td>\n",
       "      <td>35962</td>\n",
       "      <td>74288</td>\n",
       "      <td>9218</td>\n",
       "      <td>38158</td>\n",
       "      <td>16786</td>\n",
       "      <td>9904</td>\n",
       "      <td>74066</td>\n",
       "    </tr>\n",
       "    <tr>\n",
       "      <th>SALEM COUNTY</th>\n",
       "      <td>34033</td>\n",
       "      <td>31838.0</td>\n",
       "      <td>30547.0</td>\n",
       "      <td>62385.0</td>\n",
       "      <td>13334.0</td>\n",
       "      <td>23616.0</td>\n",
       "      <td>13564.0</td>\n",
       "      <td>11871.0</td>\n",
       "      <td>3038</td>\n",
       "      <td>2705</td>\n",
       "      <td>5743</td>\n",
       "      <td>823</td>\n",
       "      <td>3047</td>\n",
       "      <td>1287</td>\n",
       "      <td>961</td>\n",
       "      <td>6118</td>\n",
       "    </tr>\n",
       "    <tr>\n",
       "      <th>SOMERSET COUNTY</th>\n",
       "      <td>34035</td>\n",
       "      <td>168004.0</td>\n",
       "      <td>160930.0</td>\n",
       "      <td>328934.0</td>\n",
       "      <td>70756.0</td>\n",
       "      <td>129627.0</td>\n",
       "      <td>75363.0</td>\n",
       "      <td>53188.0</td>\n",
       "      <td>15726</td>\n",
       "      <td>15410</td>\n",
       "      <td>31136</td>\n",
       "      <td>4072</td>\n",
       "      <td>15318</td>\n",
       "      <td>6944</td>\n",
       "      <td>4306</td>\n",
       "      <td>30640</td>\n",
       "    </tr>\n",
       "    <tr>\n",
       "      <th>SUSSEX COUNTY</th>\n",
       "      <td>34037</td>\n",
       "      <td>70685.0</td>\n",
       "      <td>69803.0</td>\n",
       "      <td>140488.0</td>\n",
       "      <td>27245.0</td>\n",
       "      <td>52567.0</td>\n",
       "      <td>35436.0</td>\n",
       "      <td>25240.0</td>\n",
       "      <td>6993</td>\n",
       "      <td>6978</td>\n",
       "      <td>13971</td>\n",
       "      <td>2085</td>\n",
       "      <td>6864</td>\n",
       "      <td>3625</td>\n",
       "      <td>1720</td>\n",
       "      <td>14294</td>\n",
       "    </tr>\n",
       "    <tr>\n",
       "      <th>UNION COUNTY</th>\n",
       "      <td>34039</td>\n",
       "      <td>284440.0</td>\n",
       "      <td>271901.0</td>\n",
       "      <td>556341.0</td>\n",
       "      <td>129858.0</td>\n",
       "      <td>232207.0</td>\n",
       "      <td>112309.0</td>\n",
       "      <td>81967.0</td>\n",
       "      <td>37259</td>\n",
       "      <td>35818</td>\n",
       "      <td>73077</td>\n",
       "      <td>9428</td>\n",
       "      <td>37953</td>\n",
       "      <td>16428</td>\n",
       "      <td>8937</td>\n",
       "      <td>72746</td>\n",
       "    </tr>\n",
       "    <tr>\n",
       "      <th>WARREN COUNTY</th>\n",
       "      <td>34041</td>\n",
       "      <td>53693.0</td>\n",
       "      <td>51574.0</td>\n",
       "      <td>105267.0</td>\n",
       "      <td>20353.0</td>\n",
       "      <td>39582.0</td>\n",
       "      <td>25620.0</td>\n",
       "      <td>19712.0</td>\n",
       "      <td>5114</td>\n",
       "      <td>4654</td>\n",
       "      <td>9768</td>\n",
       "      <td>1240</td>\n",
       "      <td>4793</td>\n",
       "      <td>2375</td>\n",
       "      <td>1542</td>\n",
       "      <td>9950</td>\n",
       "    </tr>\n",
       "  </tbody>\n",
       "</table>\n",
       "</div>"
      ],
      "text/plain": [
       "                  County_Num  Female_Pop  Male_pop  Total_Population  \\\n",
       "County                                                                 \n",
       "ATLANTIC COUNTY        34001    136079.0  127591.0          263670.0   \n",
       "BERGEN COUNTY          34003    479536.0  452666.0          932202.0   \n",
       "BURLINGTON COUNTY      34005    226147.0  219202.0          445349.0   \n",
       "CAMDEN COUNTY          34007    262041.0  244430.0          506471.0   \n",
       "CAPE MAY COUNTY        34009     47171.0   44868.0           92039.0   \n",
       "CUMBERLAND COUNTY      34011     73366.0   76161.0          149527.0   \n",
       "ESSEX COUNTY           34013    414401.0  384574.0          798975.0   \n",
       "GLOUCESTER COUNTY      34015    149790.0  141846.0          291636.0   \n",
       "HUDSON COUNTY          34017    337404.0  334987.0          672391.0   \n",
       "HUNTERDON COUNTY       34019     63032.0   61339.0          124371.0   \n",
       "MERCER COUNTY          34021    187675.0  179755.0          367430.0   \n",
       "MIDDLESEX COUNTY       34023    417800.0  407262.0          825062.0   \n",
       "MONMOUTH COUNTY        34025    317732.0  301063.0          618795.0   \n",
       "MORRIS COUNTY          34027    249924.0  241921.0          491845.0   \n",
       "OCEAN COUNTY           34029    313896.0  293290.0          607186.0   \n",
       "PASSAIC COUNTY         34031    256949.0  244877.0          501826.0   \n",
       "SALEM COUNTY           34033     31838.0   30547.0           62385.0   \n",
       "SOMERSET COUNTY        34035    168004.0  160930.0          328934.0   \n",
       "SUSSEX COUNTY          34037     70685.0   69803.0          140488.0   \n",
       "UNION COUNTY           34039    284440.0  271901.0          556341.0   \n",
       "WARREN COUNTY          34041     53693.0   51574.0          105267.0   \n",
       "\n",
       "                   Under_18_Population  18_to_49_years_population  \\\n",
       "County                                                              \n",
       "ATLANTIC COUNTY                55537.0                   101017.0   \n",
       "BERGEN COUNTY                 196309.0                   370475.0   \n",
       "BURLINGTON COUNTY              92159.0                   177598.0   \n",
       "CAMDEN COUNTY                 114223.0                   209032.0   \n",
       "CAPE MAY COUNTY                15950.0                    29627.0   \n",
       "CUMBERLAND COUNTY              35480.0                    62520.0   \n",
       "ESSEX COUNTY                  189397.0                   346184.0   \n",
       "GLOUCESTER COUNTY              63099.0                   117965.0   \n",
       "HUDSON COUNTY                 136715.0                   342843.0   \n",
       "HUNTERDON COUNTY               23712.0                    44104.0   \n",
       "MERCER COUNTY                  78062.0                   158219.0   \n",
       "MIDDLESEX COUNTY              178792.0                   354591.0   \n",
       "MONMOUTH COUNTY               129412.0                   231092.0   \n",
       "MORRIS COUNTY                 102477.0                   190670.0   \n",
       "OCEAN COUNTY                  146690.0                   204381.0   \n",
       "PASSAIC COUNTY                119018.0                   210572.0   \n",
       "SALEM COUNTY                   13334.0                    23616.0   \n",
       "SOMERSET COUNTY                70756.0                   129627.0   \n",
       "SUSSEX COUNTY                  27245.0                    52567.0   \n",
       "UNION COUNTY                  129858.0                   232207.0   \n",
       "WARREN COUNTY                  20353.0                    39582.0   \n",
       "\n",
       "                   50_to_64_years_population  65_and_over_Population  \\\n",
       "County                                                                 \n",
       "ATLANTIC COUNTY                      58089.0                 49027.0   \n",
       "BERGEN COUNTY                       200750.0                164668.0   \n",
       "BURLINGTON COUNTY                    98227.0                 77365.0   \n",
       "CAMDEN COUNTY                       101686.0                 81530.0   \n",
       "CAPE MAY COUNTY                      21296.0                 25166.0   \n",
       "CUMBERLAND COUNTY                    28135.0                 23392.0   \n",
       "ESSEX COUNTY                        152292.0                111102.0   \n",
       "GLOUCESTER COUNTY                    63000.0                 47572.0   \n",
       "HUDSON COUNTY                       110926.0                 81907.0   \n",
       "HUNTERDON COUNTY                     32469.0                 24086.0   \n",
       "MERCER COUNTY                        73662.0                 57487.0   \n",
       "MIDDLESEX COUNTY                    163916.0                127763.0   \n",
       "MONMOUTH COUNTY                     145793.0                112498.0   \n",
       "MORRIS COUNTY                       112212.0                 86486.0   \n",
       "OCEAN COUNTY                        117787.0                138328.0   \n",
       "PASSAIC COUNTY                       97056.0                 75180.0   \n",
       "SALEM COUNTY                         13564.0                 11871.0   \n",
       "SOMERSET COUNTY                      75363.0                 53188.0   \n",
       "SUSSEX COUNTY                        35436.0                 25240.0   \n",
       "UNION COUNTY                        112309.0                 81967.0   \n",
       "WARREN COUNTY                        25620.0                 19712.0   \n",
       "\n",
       "                   Female_cases  Male_cases  Total__gender_cases_w/o_unknown  \\\n",
       "County                                                                         \n",
       "ATLANTIC COUNTY           17255       15353                            32608   \n",
       "BERGEN COUNTY             54201       51968                           106169   \n",
       "BURLINGTON COUNTY         22639       22150                            44789   \n",
       "CAMDEN COUNTY             30803       27025                            57828   \n",
       "CAPE MAY COUNTY            4774        4598                             9372   \n",
       "CUMBERLAND COUNTY          9137        8976                            18113   \n",
       "ESSEX COUNTY              50547       45174                            95721   \n",
       "GLOUCESTER COUNTY         16416       14660                            31076   \n",
       "HUDSON COUNTY             44734       43143                            87877   \n",
       "HUNTERDON COUNTY           4886        4956                             9842   \n",
       "MERCER COUNTY             18535       17468                            36003   \n",
       "MIDDLESEX COUNTY          47020       46257                            93277   \n",
       "MONMOUTH COUNTY           40054       38292                            78346   \n",
       "MORRIS COUNTY             25564       25340                            50904   \n",
       "OCEAN COUNTY              40626       37572                            78198   \n",
       "PASSAIC COUNTY            38326       35962                            74288   \n",
       "SALEM COUNTY               3038        2705                             5743   \n",
       "SOMERSET COUNTY           15726       15410                            31136   \n",
       "SUSSEX COUNTY              6993        6978                            13971   \n",
       "UNION COUNTY              37259       35818                            73077   \n",
       "WARREN COUNTY              5114        4654                             9768   \n",
       "\n",
       "                   under18_cases  18_to_49_cases  50_to_64_cases  65+_cases  \\\n",
       "County                                                                        \n",
       "ATLANTIC COUNTY             4035           16432            7268       4676   \n",
       "BERGEN COUNTY              14645           51608           23955      15593   \n",
       "BURLINGTON COUNTY           5367           23317           10013       5833   \n",
       "CAMDEN COUNTY               7226           30336           12033       7740   \n",
       "CAPE MAY COUNTY             1103            4530            2206       1807   \n",
       "CUMBERLAND COUNTY           1863            9926            3779       2451   \n",
       "ESSEX COUNTY               12657           50349           20423      12237   \n",
       "GLOUCESTER COUNTY           3974           16371            6691       4067   \n",
       "HUDSON COUNTY               9333           49901           17990      10720   \n",
       "HUNTERDON COUNTY            1429            4709            2669       1320   \n",
       "MERCER COUNTY               3841           18972            7607       4769   \n",
       "MIDDLESEX COUNTY           11328           49689           20189      11890   \n",
       "MONMOUTH COUNTY            11516           38540           17754      10244   \n",
       "MORRIS COUNTY               6777           24842           12117       6984   \n",
       "OCEAN COUNTY               11074           37784           16043      13238   \n",
       "PASSAIC COUNTY              9218           38158           16786       9904   \n",
       "SALEM COUNTY                 823            3047            1287        961   \n",
       "SOMERSET COUNTY             4072           15318            6944       4306   \n",
       "SUSSEX COUNTY               2085            6864            3625       1720   \n",
       "UNION COUNTY                9428           37953           16428       8937   \n",
       "WARREN COUNTY               1240            4793            2375       1542   \n",
       "\n",
       "                   Total_cases_by_age  \n",
       "County                                 \n",
       "ATLANTIC COUNTY                 32411  \n",
       "BERGEN COUNTY                  105801  \n",
       "BURLINGTON COUNTY               44530  \n",
       "CAMDEN COUNTY                   57335  \n",
       "CAPE MAY COUNTY                  9646  \n",
       "CUMBERLAND COUNTY               18019  \n",
       "ESSEX COUNTY                    95666  \n",
       "GLOUCESTER COUNTY               31103  \n",
       "HUDSON COUNTY                   87944  \n",
       "HUNTERDON COUNTY                10127  \n",
       "MERCER COUNTY                   35189  \n",
       "MIDDLESEX COUNTY                93096  \n",
       "MONMOUTH COUNTY                 78054  \n",
       "MORRIS COUNTY                   50720  \n",
       "OCEAN COUNTY                    78139  \n",
       "PASSAIC COUNTY                  74066  \n",
       "SALEM COUNTY                     6118  \n",
       "SOMERSET COUNTY                 30640  \n",
       "SUSSEX COUNTY                   14294  \n",
       "UNION COUNTY                    72746  \n",
       "WARREN COUNTY                    9950  "
      ]
     },
     "execution_count": 634,
     "metadata": {},
     "output_type": "execute_result"
    }
   ],
   "source": [
    "Total_gender_age_cases_pop"
   ]
  },
  {
   "cell_type": "markdown",
   "metadata": {},
   "source": [
    "# Visualizations/Analysis"
   ]
  },
  {
   "cell_type": "markdown",
   "metadata": {},
   "source": [
    "### Gender Analysis"
   ]
  },
  {
   "cell_type": "code",
   "execution_count": 593,
   "metadata": {},
   "outputs": [
    {
     "data": {
      "text/plain": [
       "<matplotlib.axes._subplots.AxesSubplot at 0x7fb38f5044a8>"
      ]
     },
     "execution_count": 593,
     "metadata": {},
     "output_type": "execute_result"
    },
    {
     "data": {
      "image/png": "[encoded data removed]",
      "text/plain": [
       "<Figure size 1080x720 with 1 Axes>"
      ]
     },
     "metadata": {
      "needs_background": "light"
     },
     "output_type": "display_data"
    }
   ],
   "source": [
    "Total_gender_cases_by_pop = Total_gender_age_cases_pop[[\"Female_Pop\",\"Female_cases\",\"Male_pop\",\"Male_cases\"]]\n",
    "gender_bar_chart = Total_gender_cases_by_pop.sort_values('Female_Pop',ascending=False).plot(kind='bar', title =\"Total Gender Population and Cases\", figsize=(15, 10), legend=True, fontsize=12)\n",
    "gender_bar_chart"
   ]
  },
  {
   "cell_type": "code",
   "execution_count": 647,
   "metadata": {},
   "outputs": [
    {
     "name": "stdout",
     "output_type": "stream",
     "text": [
      "The r-squared is: 0.9654914134248967\n",
      "The correlation between Female Population and # of Female Cases is 0.98\n"
     ]
    },
    {
     "data": {
      "image/png": "[encoded data removed]",
      "text/plain": [
       "<Figure size 576x576 with 1 Axes>"
      ]
     },
     "metadata": {
      "needs_background": "light"
     },
     "output_type": "display_data"
    }
   ],
   "source": [
    "## Female\n",
    "Total_gender_cases_by_pop.plot(kind=\"scatter\", x=\"Female_Pop\", y=\"Female_cases\", grid=True, figsize=(8,8),\n",
    "              title=\"Female population vs cases\")\n",
    "\n",
    "correlation = st.pearsonr(Total_gender_cases_by_pop[\"Female_Pop\"],Total_gender_cases_by_pop[\"Female_cases\"])\n",
    "(slope, intercept, rvalue, pvalue, stderr) = linregress(Total_gender_cases_by_pop[\"Female_Pop\"],Total_gender_cases_by_pop[\"Female_cases\"])\n",
    "regress_values = Total_gender_cases_by_pop[\"Female_Pop\"] * slope + intercept\n",
    "plt.plot(Total_gender_cases_by_pop[\"Female_Pop\"],regress_values,\"r-\")\n",
    "correlation = st.pearsonr(Total_gender_cases_by_pop[\"Female_Pop\"],Total_gender_cases_by_pop[\"Female_cases\"])\n",
    "print(f\"The r-squared is: {rvalue**2}\")\n",
    "print(f\"The correlation between Female Population and # of Female Cases is {round(correlation[0],2)}\")\n",
    "\n",
    "plt.show()"
   ]
  },
  {
   "cell_type": "code",
   "execution_count": 646,
   "metadata": {},
   "outputs": [
    {
     "name": "stdout",
     "output_type": "stream",
     "text": [
      "The r-squared is: 0.970087781688549\n",
      "The correlation between Male Population and # of Male Cases is 0.98\n"
     ]
    },
    {
     "data": {
      "image/png": "[encoded data removed]",
      "text/plain": [
       "<Figure size 576x576 with 1 Axes>"
      ]
     },
     "metadata": {
      "needs_background": "light"
     },
     "output_type": "display_data"
    }
   ],
   "source": [
    "## Male\n",
    "Total_gender_cases_by_pop.plot(kind=\"scatter\", x=\"Male_pop\", y=\"Male_cases\", grid=True, figsize=(8,8),\n",
    "              title=\"Male population vs cases\")\n",
    "\n",
    "correlation = st.pearsonr(Total_gender_cases_by_pop[\"Male_pop\"],Total_gender_cases_by_pop[\"Male_cases\"])\n",
    "(slope, intercept, rvalue, pvalue, stderr) = linregress(Total_gender_cases_by_pop[\"Male_pop\"],Total_gender_cases_by_pop[\"Male_cases\"])\n",
    "regress_values = Total_gender_cases_by_pop[\"Male_pop\"] * slope + intercept\n",
    "plt.plot(Total_gender_cases_by_pop[\"Male_pop\"],regress_values,\"r-\")\n",
    "correlation = st.pearsonr(Total_gender_cases_by_pop[\"Male_pop\"],Total_gender_cases_by_pop[\"Male_cases\"])\n",
    "print(f\"The r-squared is: {rvalue**2}\")\n",
    "print(f\"The correlation between Male Population and # of Male Cases is {round(correlation[0],2)}\")\n",
    "\n",
    "plt.show()"
   ]
  },
  {
   "cell_type": "markdown",
   "metadata": {},
   "source": [
    "### Age group Analysis"
   ]
  },
  {
   "cell_type": "code",
   "execution_count": 656,
   "metadata": {
    "scrolled": false
   },
   "outputs": [
    {
     "data": {
      "text/plain": [
       "<matplotlib.axes._subplots.AxesSubplot at 0x7fb325e61cc0>"
      ]
     },
     "execution_count": 656,
     "metadata": {},
     "output_type": "execute_result"
    },
    {
     "data": {
      "image/png": "[encoded data removed]",
      "text/plain": [
       "<Figure size 1080x720 with 1 Axes>"
      ]
     },
     "metadata": {
      "needs_background": "light"
     },
     "output_type": "display_data"
    }
   ],
   "source": [
    "Total_age_cases = Total_gender_age_cases_pop[[\"under18_cases\",\"18_to_49_cases\",\"50_to_64_cases\",\"65+_cases\"]]\n",
    "Age_bar_chart = Total_age_cases.sort_values(\"18_to_49_cases\", ascending=False).plot(kind='bar', title =\"Total Age-group Cases\", figsize=(15, 10), legend=True, fontsize=12)\n",
    "Age_bar_chart"
   ]
  },
  {
   "cell_type": "code",
   "execution_count": 657,
   "metadata": {
    "scrolled": false
   },
   "outputs": [
    {
     "name": "stdout",
     "output_type": "stream",
     "text": [
      "The r-squared is: 0.9593123339772164\n",
      "The correlation between under 18 Population and # of under 18 Cases is 0.98\n"
     ]
    },
    {
     "data": {
      "image/png": "[encoded data removed]",
      "text/plain": [
       "<Figure size 576x576 with 1 Axes>"
      ]
     },
     "metadata": {
      "needs_background": "light"
     },
     "output_type": "display_data"
    }
   ],
   "source": [
    "Total_age_cases_by_pop = Total_gender_age_cases_pop[[\"Under_18_Population\",\"under18_cases\",\"18_to_49_years_population\",\"18_to_49_cases\",\"50_to_64_years_population\",\"50_to_64_cases\",\"65_and_over_Population\",\"65+_cases\"]]\n",
    "\n",
    "Total_age_cases_by_pop.plot(kind=\"scatter\", x=\"Under_18_Population\", y=\"under18_cases\", grid=True, figsize=(8,8),\n",
    "              title=\"Under 18 population vs cases\")\n",
    "correlation = st.pearsonr(Total_age_cases_by_pop[\"Under_18_Population\"],Total_age_cases_by_pop[\"under18_cases\"])\n",
    "(slope, intercept, rvalue, pvalue, stderr) = linregress(Total_age_cases_by_pop[\"Under_18_Population\"],Total_age_cases_by_pop[\"under18_cases\"])\n",
    "regress_values = Total_age_cases_by_pop[\"Under_18_Population\"] * slope + intercept\n",
    "plt.plot(Total_age_cases_by_pop[\"Under_18_Population\"],regress_values,\"r-\")\n",
    "correlation = st.pearsonr(Total_age_cases_by_pop[\"Under_18_Population\"],Total_age_cases_by_pop[\"under18_cases\"])\n",
    "print(f\"The r-squared is: {rvalue**2}\")\n",
    "print(f\"The correlation between under 18 Population and # of under 18 Cases is {round(correlation[0],2)}\")\n",
    "\n",
    "plt.show()"
   ]
  },
  {
   "cell_type": "code",
   "execution_count": 658,
   "metadata": {},
   "outputs": [
    {
     "name": "stdout",
     "output_type": "stream",
     "text": [
      "The r-squared is: 0.9622251337962724\n",
      "The correlation between 18-49 Population and # of 18-49 Cases is 0.98\n"
     ]
    },
    {
     "data": {
      "image/png": "[encoded data removed]",
      "text/plain": [
       "<Figure size 576x576 with 1 Axes>"
      ]
     },
     "metadata": {
      "needs_background": "light"
     },
     "output_type": "display_data"
    }
   ],
   "source": [
    "## 18-49\n",
    "Total_age_cases_by_pop.plot(kind=\"scatter\", x=\"18_to_49_years_population\", y=\"18_to_49_cases\", grid=True, figsize=(8,8),\n",
    "              title=\"18 to 49 population vs cases\")\n",
    "correlation = st.pearsonr(Total_age_cases_by_pop[\"18_to_49_years_population\"],Total_age_cases_by_pop[\"18_to_49_cases\"])\n",
    "(slope, intercept, rvalue, pvalue, stderr) = linregress(Total_age_cases_by_pop[\"18_to_49_years_population\"],Total_age_cases_by_pop[\"18_to_49_cases\"])\n",
    "regress_values = Total_age_cases_by_pop[\"18_to_49_years_population\"] * slope + intercept\n",
    "plt.plot(Total_age_cases_by_pop[\"18_to_49_years_population\"],regress_values,\"r-\")\n",
    "correlation = st.pearsonr(Total_age_cases_by_pop[\"18_to_49_years_population\"],Total_age_cases_by_pop[\"18_to_49_cases\"])\n",
    "print(f\"The r-squared is: {rvalue**2}\")\n",
    "print(f\"The correlation between 18-49 Population and # of 18-49 Cases is {round(correlation[0],2)}\")\n",
    "\n",
    "plt.show()"
   ]
  },
  {
   "cell_type": "code",
   "execution_count": 659,
   "metadata": {},
   "outputs": [
    {
     "name": "stdout",
     "output_type": "stream",
     "text": [
      "The r-squared is: 0.9305691491581521\n",
      "The correlation between 50-64 Population and # of 50-64 Cases is 0.96\n"
     ]
    },
    {
     "data": {
      "image/png": "[encoded data removed]",
      "text/plain": [
       "<Figure size 576x576 with 1 Axes>"
      ]
     },
     "metadata": {
      "needs_background": "light"
     },
     "output_type": "display_data"
    }
   ],
   "source": [
    "## 50-64\n",
    "Total_age_cases_by_pop.plot(kind=\"scatter\", x=\"50_to_64_years_population\", y=\"50_to_64_cases\", grid=True, figsize=(8,8),\n",
    "              title=\"50 to 64 population vs cases\")\n",
    "correlation = st.pearsonr(Total_age_cases_by_pop[\"50_to_64_years_population\"],Total_age_cases_by_pop[\"50_to_64_cases\"])\n",
    "(slope, intercept, rvalue, pvalue, stderr) = linregress(Total_age_cases_by_pop[\"50_to_64_years_population\"],Total_age_cases_by_pop[\"50_to_64_cases\"])\n",
    "regress_values = Total_age_cases_by_pop[\"50_to_64_years_population\"] * slope + intercept\n",
    "plt.plot(Total_age_cases_by_pop[\"50_to_64_years_population\"],regress_values,\"r-\")\n",
    "correlation = st.pearsonr(Total_age_cases_by_pop[\"50_to_64_years_population\"],Total_age_cases_by_pop[\"50_to_64_cases\"])\n",
    "print(f\"The r-squared is: {rvalue**2}\")\n",
    "print(f\"The correlation between 50-64 Population and # of 50-64 Cases is {round(correlation[0],2)}\")\n",
    "\n",
    "plt.show()"
   ]
  },
  {
   "cell_type": "code",
   "execution_count": 660,
   "metadata": {},
   "outputs": [
    {
     "name": "stdout",
     "output_type": "stream",
     "text": [
      "The r-squared is: 0.934252679056429\n",
      "The correlation between 65+ Population and # of 65+ Cases is 0.97\n"
     ]
    },
    {
     "data": {
      "image/png": "[encoded data removed]",
      "text/plain": [
       "<Figure size 576x576 with 1 Axes>"
      ]
     },
     "metadata": {
      "needs_background": "light"
     },
     "output_type": "display_data"
    }
   ],
   "source": [
    "## 65+\n",
    "Total_age_cases_by_pop.plot(kind=\"scatter\", x=\"65_and_over_Population\", y=\"65+_cases\", grid=True, figsize=(8,8),\n",
    "              title=\"65+ population vs cases\")\n",
    "correlation = st.pearsonr(Total_age_cases_by_pop[\"65_and_over_Population\"],Total_age_cases_by_pop[\"65+_cases\"])\n",
    "(slope, intercept, rvalue, pvalue, stderr) = linregress(Total_age_cases_by_pop[\"65_and_over_Population\"],Total_age_cases_by_pop[\"65+_cases\"])\n",
    "regress_values = Total_age_cases_by_pop[\"65_and_over_Population\"] * slope + intercept\n",
    "plt.plot(Total_age_cases_by_pop[\"65_and_over_Population\"],regress_values,\"r-\")\n",
    "correlation = st.pearsonr(Total_age_cases_by_pop[\"65_and_over_Population\"],Total_age_cases_by_pop[\"65+_cases\"])\n",
    "print(f\"The r-squared is: {rvalue**2}\")\n",
    "print(f\"The correlation between 65+ Population and # of 65+ Cases is {round(correlation[0],2)}\")\n",
    "\n",
    "plt.show()"
   ]
  },
  {
   "cell_type": "code",
   "execution_count": null,
   "metadata": {},
   "outputs": [],
   "source": []
  }
 ],
 "metadata": {
  "kernelspec": {
   "display_name": "Python 3",
   "language": "python",
   "name": "python3"
  },
  "language_info": {
   "codemirror_mode": {
    "name": "ipython",
    "version": 3
   },
   "file_extension": ".py",
   "mimetype": "text/x-python",
   "name": "python",
   "nbconvert_exporter": "python",
   "pygments_lexer": "ipython3",
   "version": "3.6.10"
  }
 },
 "nbformat": 4,
 "nbformat_minor": 4
}
